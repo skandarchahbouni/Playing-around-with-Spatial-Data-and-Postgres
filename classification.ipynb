{
  "cells": [
    {
      "cell_type": "code",
      "execution_count": null,
      "metadata": {},
      "outputs": [],
      "source": [
        "import pandas as pd\n",
        "import numpy as np\n",
        "from sklearn.model_selection import train_test_split\n",
        "from sklearn.ensemble import RandomForestClassifier\n",
        "from sklearn.neighbors import KNeighborsClassifier\n",
        "from sklearn.preprocessing import LabelEncoder, StandardScaler\n",
        "from sklearn.metrics import classification_report\n",
        "from datetime import datetime"
      ]
    },
    {
      "cell_type": "code",
      "execution_count": null,
      "metadata": {},
      "outputs": [],
      "source": [
        "# Load dataset (replace 'data.csv' with the actual filename)\n",
        "data = pd.read_csv('loaded/trajectories.csv')"
      ]
    },
    {
      "cell_type": "code",
      "execution_count": null,
      "metadata": {},
      "outputs": [],
      "source": [
        "# Remove null values\n",
        "data = data.dropna()\n",
        "\n",
        "# Preprocessing\n",
        "# Parse datetime into features\n",
        "data['time'] = pd.to_datetime(data['time'])\n",
        "data['hour'] = data['time'].dt.hour\n",
        "data['minute'] = data['time'].dt.minute\n",
        "data['second'] = data['time'].dt.second\n",
        "data.drop(['time'], axis=1, inplace=True)\n",
        "\n",
        "# Encode categorical labels\n",
        "label_encoder = LabelEncoder()\n",
        "data['label'] = label_encoder.fit_transform(data['label'])\n",
        "\n",
        "# Split features and target\n",
        "X = data.drop(['label'], axis=1)\n",
        "y = data['label']"
      ]
    },
    {
      "cell_type": "code",
      "execution_count": null,
      "metadata": {},
      "outputs": [],
      "source": [
        "# Split into train/test sets with shuffling\n",
        "X_train, X_test, y_train, y_test = train_test_split(X, y, test_size=0.2, random_state=42, shuffle=True)\n",
        "\n",
        "# Scaling: Fit scaler only on training data, then transform both train and test data\n",
        "scaler = StandardScaler()\n",
        "X_train[['lat', 'lon', 'alt']] = scaler.fit_transform(X_train[['lat', 'lon', 'alt']])\n",
        "X_test[['lat', 'lon', 'alt']] = scaler.transform(X_test[['lat', 'lon', 'alt']])"
      ]
    },
    {
      "cell_type": "code",
      "execution_count": 2,
      "metadata": {
        "colab": {
          "base_uri": "https://localhost:8080/"
        },
        "id": "l_vGmJUJcY17",
        "outputId": "9956e82c-27a5-413b-b711-2b9d06c51ce0"
      },
      "outputs": [
        {
          "name": "stdout",
          "output_type": "stream",
          "text": [
            "\n",
            "Training Random Forest model...\n",
            "Random Forest Classification Report:\n",
            "              precision    recall  f1-score   support\n",
            "\n",
            "           0       1.00      0.99      1.00     18057\n",
            "           1       0.99      0.99      0.99      4727\n",
            "           2       0.99      1.00      0.99      2201\n",
            "           3       1.00      1.00      1.00      3869\n",
            "           4       0.99      0.99      0.99       369\n",
            "           5       0.99      1.00      1.00       997\n",
            "           6       1.00      1.00      1.00         3\n",
            "           7       1.00      1.00      1.00        62\n",
            "           8       0.95      0.99      0.97       166\n",
            "\n",
            "    accuracy                           0.99     30451\n",
            "   macro avg       0.99      1.00      0.99     30451\n",
            "weighted avg       0.99      0.99      0.99     30451\n",
            "\n",
            "\n",
            "Training K-Nearest Neighbors model...\n",
            "K-Nearest Neighbors Classification Report:\n",
            "              precision    recall  f1-score   support\n",
            "\n",
            "           0       0.85      0.92      0.89     18057\n",
            "           1       0.60      0.53      0.56      4727\n",
            "           2       0.54      0.49      0.51      2201\n",
            "           3       0.75      0.67      0.71      3869\n",
            "           4       0.64      0.40      0.49       369\n",
            "           5       0.84      0.83      0.83       997\n",
            "           6       0.00      0.00      0.00         3\n",
            "           7       0.17      0.05      0.07        62\n",
            "           8       0.51      0.19      0.28       166\n",
            "\n",
            "    accuracy                           0.78     30451\n",
            "   macro avg       0.54      0.45      0.48     30451\n",
            "weighted avg       0.77      0.78      0.77     30451\n",
            "\n"
          ]
        }
      ],
      "source": [
        "# Initialize models\n",
        "models = {\n",
        "    'Random Forest': RandomForestClassifier(random_state=42),\n",
        "    'K-Nearest Neighbors': KNeighborsClassifier()\n",
        "}\n",
        "\n",
        "# Train and evaluate each model\n",
        "for model_name, model in models.items():\n",
        "    print(f\"\\nTraining {model_name} model...\")\n",
        "\n",
        "    # Train the model\n",
        "    model.fit(X_train, y_train)\n",
        "\n",
        "    # Predictions\n",
        "    y_pred = model.predict(X_test)\n",
        "\n",
        "    # Evaluation\n",
        "    print(f\"{model_name} Classification Report:\")\n",
        "    print(classification_report(y_test, y_pred))\n"
      ]
    },
    {
      "cell_type": "code",
      "execution_count": null,
      "metadata": {},
      "outputs": [],
      "source": [
        "\n",
        "# Load dataset (replace 'data.csv' with the actual filename)\n",
        "data = pd.read_csv('trajectories.csv')\n",
        "\n",
        "# Remove null values\n",
        "data = data.dropna()\n",
        "\n",
        "# Preprocessing\n",
        "# Parse datetime into features\n",
        "data['time'] = pd.to_datetime(data['time'])\n",
        "data['hour'] = data['time'].dt.hour\n",
        "data['minute'] = data['time'].dt.minute\n",
        "data['second'] = data['time'].dt.second\n",
        "data.drop(['time'], axis=1, inplace=True)\n",
        "\n",
        "# Encode categorical labels\n",
        "label_encoder = LabelEncoder()\n",
        "data['label'] = label_encoder.fit_transform(data['label'])\n",
        "\n",
        "# Split features and target\n",
        "X = data.drop(['label'], axis=1)\n",
        "y = data['label']\n",
        "\n",
        "# Split into train/test sets with shuffling\n",
        "X_train, X_test, y_train, y_test = train_test_split(X, y, test_size=0.2, random_state=42, shuffle=True)\n",
        "\n",
        "# Scaling: Fit scaler only on training data, then transform both train and test data\n",
        "scaler = StandardScaler()\n",
        "X_train[['lat', 'lon', 'alt']] = scaler.fit_transform(X_train[['lat', 'lon', 'alt']])\n",
        "X_test[['lat', 'lon', 'alt']] = scaler.transform(X_test[['lat', 'lon', 'alt']])\n",
        "\n",
        "# Initialize models\n",
        "models = {\n",
        "    'Random Forest': RandomForestClassifier(random_state=42),\n",
        "    'K-Nearest Neighbors': KNeighborsClassifier()\n",
        "}\n",
        "\n",
        "# Train and evaluate each model\n",
        "for model_name, model in models.items():\n",
        "    print(f\"\\nTraining {model_name} model...\")\n",
        "\n",
        "    # Train the model\n",
        "    model.fit(X_train, y_train)\n",
        "\n",
        "    # Predictions\n",
        "    y_pred = model.predict(X_test)\n",
        "\n",
        "    # Evaluation\n",
        "    print(f\"{model_name} Classification Report:\")\n",
        "    print(classification_report(y_test, y_pred))\n"
      ]
    }
  ],
  "metadata": {
    "accelerator": "GPU",
    "colab": {
      "gpuType": "T4",
      "provenance": []
    },
    "kernelspec": {
      "display_name": "Python 3",
      "name": "python3"
    },
    "language_info": {
      "name": "python"
    }
  },
  "nbformat": 4,
  "nbformat_minor": 0
}
